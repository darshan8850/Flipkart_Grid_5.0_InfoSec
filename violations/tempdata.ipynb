{
 "cells": [
  {
   "cell_type": "code",
   "execution_count": null,
   "metadata": {},
   "outputs": [],
   "source": [
    "status_violations=[400,403,409,429,451]\n",
    "status_n_violations=[200,201,204]\n",
    "\n",
    "methods={\"GET\", \"POST\",\"DELETE\",\"PUT\"}\n",
    "\n",
    "non_malicious_referrers = [\n",
    "    \"google.com\",\n",
    "    \"bing.com\",\n",
    "    \"yahoo.com\",\n",
    "    \"facebook.com\",\n",
    "    \"instagram.com\",\n",
    "    \"twitter.com\",\n",
    "    \"pinterest.com\",\n",
    "    \"linkedin.com\",\n",
    "    \"reddit.com\",\n",
    "    \"quora.com\",\n",
    "    \"tumblr.com\",\n",
    "    \"youtube.com\",\n",
    "    \"vimeo.com\",\n",
    "    \"medium.com\",\n",
    "    \"wordpress.com\",\n",
    "    \"wikipedia.org\",\n",
    "    \"amazon.com\",\n",
    "    \"ebay.com\",\n",
    "    \"aliexpress.com\",\n",
    "    \"walmart.com\",\n",
    "    \"target.com\",\n",
    "    \"bestbuy.com\",\n",
    "    \"macys.com\",\n",
    "    \"nordstrom.com\",\n",
    "    \"sephora.com\",\n",
    "    \"asos.com\",\n",
    "    \"zappos.com\",\n",
    "    \"homedepot.com\",\n",
    "    \"lowes.com\",\n",
    "    \"etsy.com\",\n",
    "    \"newegg.com\",\n",
    "    \"wayfair.com\",\n",
    "    \"overstock.com\"\n",
    "]\n",
    "\n"
   ]
  }
 ],
 "metadata": {
  "language_info": {
   "name": "python"
  },
  "orig_nbformat": 4
 },
 "nbformat": 4,
 "nbformat_minor": 2
}
